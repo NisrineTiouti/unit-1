{
  "nbformat": 4,
  "nbformat_minor": 0,
  "metadata": {
    "colab": {
      "name": "my_mystery_boxes.ipynb",
      "provenance": [],
      "authorship_tag": "ABX9TyOyQH1iwoal+b3t93olB+ZL",
      "include_colab_link": true
    },
    "kernelspec": {
      "name": "python3",
      "display_name": "Python 3"
    },
    "language_info": {
      "name": "python"
    }
  },
  "cells": [
    {
      "cell_type": "markdown",
      "metadata": {
        "id": "view-in-github",
        "colab_type": "text"
      },
      "source": [
        "<a href=\"https://colab.research.google.com/github/NisrineTiouti/unit-1/blob/main/my_mystery_boxes.ipynb\" target=\"_parent\"><img src=\"https://colab.research.google.com/assets/colab-badge.svg\" alt=\"Open In Colab\"/></a>"
      ]
    },
    {
      "cell_type": "code",
      "metadata": {
        "colab": {
          "base_uri": "https://localhost:8080/",
          "height": 36
        },
        "id": "FjG6YfbuSn-w",
        "outputId": "2a9f9558-e0f7-4fc0-d9a0-66ef17118d06"
      },
      "source": [
        "def nisbox1(introduction):\n",
        "  introduction = introduction.replace(\"16\", \"\")\n",
        "  return introduction\n",
        "\n",
        "nisbox1( \"Hello! My name is Nisrine i am 16 \")\n",
        "\n"
      ],
      "execution_count": 14,
      "outputs": [
        {
          "output_type": "execute_result",
          "data": {
            "application/vnd.google.colaboratory.intrinsic+json": {
              "type": "string"
            },
            "text/plain": [
              "'Hello! My name is Nisrine i am  '"
            ]
          },
          "metadata": {},
          "execution_count": 14
        }
      ]
    },
    {
      "cell_type": "code",
      "metadata": {
        "colab": {
          "base_uri": "https://localhost:8080/"
        },
        "id": "mle7ENomatyU",
        "outputId": "a02665e0-9a27-42f1-d55e-eee47064945c"
      },
      "source": [
        "def nisbox2(phrase):\n",
        "  if len(phrase) %2 != 0:\n",
        "    print(0)\n",
        "  if len(phrase)% 2 == 0:\n",
        "  \n",
        "    print(phrase) \n",
        "\n",
        "nisbox2(\"I hate avocado\")"
      ],
      "execution_count": 19,
      "outputs": [
        {
          "output_type": "stream",
          "name": "stdout",
          "text": [
            "I hate avocado\n"
          ]
        }
      ]
    },
    {
      "cell_type": "code",
      "metadata": {
        "colab": {
          "base_uri": "https://localhost:8080/",
          "height": 36
        },
        "id": "UlTa8LHScRH6",
        "outputId": "33471495-fc50-4f85-f588-d9d23ffac0f1"
      },
      "source": [
        "def nisbox3(sentence):\n",
        "  newstr = \"\"\n",
        "  for i in sentence.lower():\n",
        "    if i not in \"aeiou\":\n",
        "      newstr += i\n",
        "  text = newstr\n",
        "  return text\n",
        "nisbox3(\"I hate avocado\")"
      ],
      "execution_count": 27,
      "outputs": [
        {
          "output_type": "execute_result",
          "data": {
            "application/vnd.google.colaboratory.intrinsic+json": {
              "type": "string"
            },
            "text/plain": [
              "' ht vcd'"
            ]
          },
          "metadata": {},
          "execution_count": 27
        }
      ]
    },
    {
      "cell_type": "code",
      "metadata": {
        "colab": {
          "base_uri": "https://localhost:8080/",
          "height": 36
        },
        "id": "OiHFLqrhgx9z",
        "outputId": "0e861334-3e09-4b06-f2f8-53c69f49a289"
      },
      "source": [
        "def nisbox3(sentence):\n",
        "  newstr = \"\"\n",
        "  for i in str(sentence):\n",
        "    if i not in \"aeiouAEIOU\":\n",
        "      newstr += i\n",
        "  text = newstr\n",
        "  return text\n",
        "\n",
        "def nisbox2(phrase):\n",
        "  if len(phrase) %2 != 0:\n",
        "    result = 0\n",
        "  if len(phrase)% 2 == 0:\n",
        "    result = phrase\n",
        "  return result\n",
        "\n",
        "def nisbox1(introduction):\n",
        "  introduction = introduction.replace(\"16\", \"\")\n",
        "  return introduction\n",
        "\n",
        "nisbox3(nisbox3(nisbox2(nisbox1(\"Hello! My name is Nisrine i am 16\"))))\n"
      ],
      "execution_count": 41,
      "outputs": [
        {
          "output_type": "execute_result",
          "data": {
            "application/vnd.google.colaboratory.intrinsic+json": {
              "type": "string"
            },
            "text/plain": [
              "'0'"
            ]
          },
          "metadata": {},
          "execution_count": 41
        }
      ]
    }
  ]
}