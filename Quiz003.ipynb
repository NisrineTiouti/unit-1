{
  "nbformat": 4,
  "nbformat_minor": 0,
  "metadata": {
    "colab": {
      "name": "Untitled2.ipynb",
      "provenance": [],
      "authorship_tag": "ABX9TyO5ZN3BhBbNoczvU20kXdQT",
      "include_colab_link": true
    },
    "kernelspec": {
      "name": "python3",
      "display_name": "Python 3"
    },
    "language_info": {
      "name": "python"
    }
  },
  "cells": [
    {
      "cell_type": "markdown",
      "metadata": {
        "id": "view-in-github",
        "colab_type": "text"
      },
      "source": [
        "<a href=\"https://colab.research.google.com/github/NisrineTiouti/unit-1/blob/main/Quiz003.ipynb\" target=\"_parent\"><img src=\"https://colab.research.google.com/assets/colab-badge.svg\" alt=\"Open In Colab\"/></a>"
      ]
    },
    {
      "cell_type": "code",
      "metadata": {
        "colab": {
          "base_uri": "https://localhost:8080/"
        },
        "id": "wdmuC8p4jgiP",
        "outputId": "be74f9b1-b742-428d-9024-e0664365e04f"
      },
      "source": [
        "# A function that receives an integer N \n",
        "# Prints out all factors of N\n",
        "\n",
        "def perfectN(num):\n",
        "  factors=[]  # define list for all factors\n",
        "  for i in range (1, num ):\n",
        "    if num %i == 0: # checks if the number is a factor of N \n",
        "      factors.append(i) # add factor in list\n",
        "  return factors\n",
        "  for item in factors:\n",
        "    item += item\n",
        "    if item = number:\n",
        "      return True\n",
        "    else:\n",
        "      return False\n",
        "test1 = perfectN(6)\n",
        "print(test1)\n",
        "test2 = perfectN(10)\n",
        "print(test2)"
      ],
      "execution_count": 6,
      "outputs": [
        {
          "output_type": "stream",
          "name": "stdout",
          "text": [
            "[1, 2, 3]\n",
            "[1, 2, 5]\n"
          ]
        }
      ]
    }
  ]
}