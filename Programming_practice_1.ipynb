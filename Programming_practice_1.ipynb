{
  "nbformat": 4,
  "nbformat_minor": 0,
  "metadata": {
    "colab": {
      "name": "Programming practice 1",
      "provenance": [],
      "collapsed_sections": [],
      "authorship_tag": "ABX9TyMZk14rLpovnSbzALJBXVa6",
      "include_colab_link": true
    },
    "kernelspec": {
      "name": "python3",
      "display_name": "Python 3"
    },
    "language_info": {
      "name": "python"
    }
  },
  "cells": [
    {
      "cell_type": "markdown",
      "metadata": {
        "id": "view-in-github",
        "colab_type": "text"
      },
      "source": [
        "<a href=\"https://colab.research.google.com/github/NisrineTiouti/unit-1/blob/main/Programming_practice_1.ipynb\" target=\"_parent\"><img src=\"https://colab.research.google.com/assets/colab-badge.svg\" alt=\"Open In Colab\"/></a>"
      ]
    },
    {
      "cell_type": "markdown",
      "metadata": {
        "id": "_NgNrM26w6DM"
      },
      "source": [
        "# Programming practice 1 \n",
        "1 -Write a program that calculates the addition of all integer numbers from 0 to 2021\n",
        " ***total= n(n+1)/2***"
      ]
    },
    {
      "cell_type": "code",
      "metadata": {
        "colab": {
          "base_uri": "https://localhost:8080/"
        },
        "id": "h-4gbnaaw0oL",
        "outputId": "2f1a3aed-d809-40c2-f5c8-562d50a24039"
      },
      "source": [
        "# Calculate the addition of all integers up to n\n",
        "# using the arithmetic sequence\n",
        "\n",
        "# the input function always gives us a string. I can use the int() function to convert to number \n",
        "n = int(input(\"Please an integer larger than zero: \") )\n",
        "\n",
        "total =(n * (n + 1) )/2\n",
        "\n",
        "#usinf f-string to show the result\n",
        "print(f\"The Total is {total}\")\n",
        "# the classic style\n",
        "print(\"The total is\", total)"
      ],
      "execution_count": null,
      "outputs": [
        {
          "output_type": "stream",
          "text": [
            "Please an integer larger than zero:  2\n",
            "The Total is 3.0\n",
            "The total is 3.0\n"
          ],
          "name": "stdout"
        }
      ]
    },
    {
      "cell_type": "markdown",
      "metadata": {
        "id": "k8ybtPFkw1F0"
      },
      "source": [
        "2- Write a program that calculates the value of y when the user enters a integer x\n",
        "\n",
        "*y = 2 *(x+3) - 3*"
      ]
    },
    {
      "cell_type": "code",
      "metadata": {
        "id": "c31KGh7A0-6B",
        "colab": {
          "base_uri": "https://localhost:8080/"
        },
        "outputId": "4dd7c0e8-75a3-4ac0-8e2c-6790a3e19270"
      },
      "source": [
        "# step 1: get the input from the user \n",
        "# step 2: convert the input which is a string to a number\n",
        "#step 3: asign (save, store) the input to variable x\n",
        "x = int( input(\" Please enter the value for x \"))\n",
        "\n",
        "# step 4: write the equation for y\n",
        "y = 2 * (x + 3) - 3\n",
        "# step 5: show the result \n",
        "print(f\"the value of y is: {y}\")"
      ],
      "execution_count": null,
      "outputs": [
        {
          "output_type": "stream",
          "text": [
            " Please enter the value for x 9\n",
            "the value of y is: 21\n"
          ],
          "name": "stdout"
        }
      ]
    },
    {
      "cell_type": "markdown",
      "metadata": {
        "id": "hRnGk8F055FO"
      },
      "source": [
        "3- Write a program that asks the user for his name and his grade then outputs his UWC Isak school email"
      ]
    },
    {
      "cell_type": "code",
      "metadata": {
        "colab": {
          "base_uri": "https://localhost:8080/"
        },
        "id": "nYCQzwXjL208",
        "outputId": "dc567035-b103-4e65-f27d-3d247e64e9db"
      },
      "source": [
        "# step 1; ask user for first name, last name and grade\n",
        "first_name = input(\"Please enter your first name: \")\n",
        "last_name= input(\"Please enter your second name: \")\n",
        "grade = int(input(\"please enter your grade [10, 11, 12]:\" ))\n",
        "\n",
        "#Step 2: \n",
        "# patter recognition\n",
        "# 2024 =>10. you can get this by 2034-10\n",
        "# 2023 =>11. you can get this by 2034-11\n",
        "# 2022 =>12. you can get this by 2034-12\n",
        "year= 2034 - grade\n",
        "\n",
        "#Step 3:\n",
        "print (f\"Your email adress is {year}.{first_name}.{last_name}@uwcisak.jp\")\n",
        "\n",
        "\n"
      ],
      "execution_count": null,
      "outputs": [
        {
          "output_type": "stream",
          "text": [
            "Please enter your first name: nisrine\n",
            "Please enter your second name: tiouti\n",
            "please enter your grade [10, 11, 12]:11\n",
            "Your email adress is 2023.nisrine.tiouti@uwcisak.jp\n"
          ],
          "name": "stdout"
        }
      ]
    },
    {
      "cell_type": "markdown",
      "metadata": {
        "id": "HnifvXb399Cu"
      },
      "source": [
        "4- Write a program that converts a temprature from Fahrenheit to Celsius\n",
        "formula :  ***(F - 32) x 5/9 = C***"
      ]
    },
    {
      "cell_type": "code",
      "metadata": {
        "id": "P6sP92Zb-5l0",
        "colab": {
          "base_uri": "https://localhost:8080/"
        },
        "outputId": "3627d9ae-d97e-4f0c-f9bf-d374c76038c1"
      },
      "source": [
        "# step 1: ask user for the temprature in Fahrenheit they want to convert \n",
        "Fahrenheit = int(input(\"Please enter the Temprutare in Farenheit: \"))\n",
        " \n",
        "# step 2: convert using the formula\n",
        "Celsius = (Fahrenheit - 32) * 5/9 \n",
        "\n",
        "# step 3: \n",
        "print(f\"The tempurature in Celsisus is : {Celsius} \")"
      ],
      "execution_count": null,
      "outputs": [
        {
          "output_type": "stream",
          "text": [
            "Please enter the Temprutare in Farenheit: 88\n",
            "The tempurature in Celsisus is : 31.11111111111111 \n"
          ],
          "name": "stdout"
        }
      ]
    },
    {
      "cell_type": "markdown",
      "metadata": {
        "id": "2RQCt-BdSwCT"
      },
      "source": [
        "5- Write a program to convert from miles to kilometers"
      ]
    },
    {
      "cell_type": "code",
      "metadata": {
        "colab": {
          "base_uri": "https://localhost:8080/"
        },
        "id": "udnDPzFETDcL",
        "outputId": "f28217c2-ec5e-45e1-d574-c7408154c0ac"
      },
      "source": [
        "# step 1: ask user for the distance in miles \n",
        "miles = int(input(\" Please enter the distance in miles: \"))\n",
        "\n",
        "#step 2: convert using the formula\n",
        "Kilometers = ( miles*1.609)\n",
        "\n",
        "# step 3\" show the results \n",
        "print(f\"The distance in Km is: { Kilometers}\")"
      ],
      "execution_count": null,
      "outputs": [
        {
          "output_type": "stream",
          "text": [
            " Please enter the distance in miles: 80\n",
            "The distance in Km is: 128.72\n"
          ],
          "name": "stdout"
        }
      ]
    },
    {
      "cell_type": "markdown",
      "metadata": {
        "id": "iP8qDTGCWN8i"
      },
      "source": [
        "6- Write a program that solves the Quadratic Equation for valid inputs a, b, c (not sure if its right ^^)"
      ]
    },
    {
      "cell_type": "code",
      "metadata": {
        "colab": {
          "base_uri": "https://localhost:8080/"
        },
        "id": "b5BiBQBwWcv6",
        "outputId": "523accd0-30c7-4cee-8f1f-de5c09ade735"
      },
      "source": [
        "# step 1: input the value of a, b, c\n",
        "import cmath\n",
        "a = int(input(\"Please enter the value for a: \"))\n",
        "b = int(input(\"Please enter the value for b: \"))\n",
        "c = int(input(\"Please enter the value for c: \"))\n",
        "\n",
        "# step 2: calculate the discriminant\n",
        "dis = (b**2) - (4*a*c)\n",
        "\n",
        "# step 2: cheking conditions for discriminant\n",
        "if dis > 0:\n",
        "   print(\"real and different roots \")\n",
        "   print((-b + cmath.sqrt(d)/(2*a)))\n",
        "   print((-b - cmath.sqrt(d)/(2*a)))\n",
        "\n",
        "elif dis == 0:\n",
        "     print(\" real and same roots \")\n",
        "     print (-b/ (2 + a))\n",
        "\n",
        "else: \n",
        "    print(\"The roots are not real numbers\")\n",
        "    "
      ],
      "execution_count": null,
      "outputs": [
        {
          "output_type": "stream",
          "name": "stdout",
          "text": [
            "Please enter the value for a: 1\n",
            "Please enter the value for b: -3\n",
            "Please enter the value for c: 2\n",
            "real and different roots \n",
            "(3+1.4142135623730951j)\n",
            "(3-1.4142135623730951j)\n"
          ]
        }
      ]
    },
    {
      "cell_type": "markdown",
      "metadata": {
        "id": "Z0IRi89EDLIW"
      },
      "source": [
        "7- Write a programe to reverse number entered by the user (wasn't able to figure it out :/) "
      ]
    },
    {
      "cell_type": "code",
      "metadata": {
        "id": "Kv50PO_WQWgU"
      },
      "source": [
        "\n"
      ],
      "execution_count": null,
      "outputs": []
    },
    {
      "cell_type": "markdown",
      "metadata": {
        "id": "vYO2YYtMPDpb"
      },
      "source": [
        "\n",
        "\n",
        "⑧ Write a program that asks the user for their name, age, nationality and produces a greeting message such as “Welcome John Doe you are 30 years old and a national of Colombia”\n",
        "\n",
        "\n",
        "\n",
        "\n"
      ]
    },
    {
      "cell_type": "code",
      "metadata": {
        "id": "HuxqFKxzPRsz",
        "colab": {
          "base_uri": "https://localhost:8080/"
        },
        "outputId": "ae8087eb-5885-46fb-c0a4-13e2cebe4792"
      },
      "source": [
        "# step 1 : ask user for input\n",
        "name = input(\"PLease write your name: \")\n",
        "age = input(\"Please write your age: \")\n",
        "nationality = input(\"PLease write where are you from:\" )\n",
        "\n",
        "# step 2: output greeting\n",
        "print(f\" Welcome {name} you are {age} years old and national of {nationality}\")"
      ],
      "execution_count": 1,
      "outputs": [
        {
          "output_type": "stream",
          "name": "stdout",
          "text": [
            "PLease write your name: Nisrine\n",
            "Please write your age: 16\n",
            "PLease write where are you from:Morocco\n",
            " Welcome Nisrine you are 16 years old and national of Morocco\n"
          ]
        }
      ]
    }
  ]
}