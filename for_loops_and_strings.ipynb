{
  "nbformat": 4,
  "nbformat_minor": 0,
  "metadata": {
    "colab": {
      "name": "for_loops_and_strings",
      "provenance": [],
      "authorship_tag": "ABX9TyNOT8MBJx6j8Ig1VYgUuEMM",
      "include_colab_link": true
    },
    "kernelspec": {
      "name": "python3",
      "display_name": "Python 3"
    },
    "language_info": {
      "name": "python"
    }
  },
  "cells": [
    {
      "cell_type": "markdown",
      "metadata": {
        "id": "view-in-github",
        "colab_type": "text"
      },
      "source": [
        "<a href=\"https://colab.research.google.com/github/NisrineTiouti/unit-1/blob/main/for_loops_and_strings.ipynb\" target=\"_parent\"><img src=\"https://colab.research.google.com/assets/colab-badge.svg\" alt=\"Open In Colab\"/></a>"
      ]
    },
    {
      "cell_type": "markdown",
      "metadata": {
        "id": "SZtPJGtcKvAF"
      },
      "source": [
        "1) Multiplication table"
      ]
    },
    {
      "cell_type": "markdown",
      "metadata": {
        "id": "a9C_F2BQKxf0"
      },
      "source": [
        ""
      ]
    },
    {
      "cell_type": "code",
      "metadata": {
        "colab": {
          "base_uri": "https://localhost:8080/"
        },
        "id": "albmppwHKadC",
        "outputId": "ef8575da-2b78-447e-8ff5-838c931677e3"
      },
      "source": [
        "#Program to show multiplication table\n",
        "number = int(input(\"Enter number (integer):\"))\n",
        "print(\"\\n\")\n",
        "msg = f\"Multiplication table for number {number}\"\n",
        "print(msg)\n",
        "len_msg = len(msg)\n",
        "print(\"-\"*len_msg) #multiplying a string with number repeats the string\n",
        "\n",
        "for i in range (11):\n",
        "  print(f\"{number} x {i} = {number * i} \")\n",
        "\n",
        "\n"
      ],
      "execution_count": null,
      "outputs": [
        {
          "output_type": "stream",
          "name": "stdout",
          "text": [
            "Enter number (integer):12\n",
            "\n",
            "\n",
            "Multiplication table for number 12\n",
            "----------------------------------\n",
            "12 x 0 = 0 \n",
            "12 x 1 = 12 \n",
            "12 x 2 = 24 \n",
            "12 x 3 = 36 \n",
            "12 x 4 = 48 \n",
            "12 x 5 = 60 \n",
            "12 x 6 = 72 \n",
            "12 x 7 = 84 \n",
            "12 x 8 = 96 \n",
            "12 x 9 = 108 \n",
            "12 x 10 = 120 \n"
          ]
        }
      ]
    },
    {
      "cell_type": "markdown",
      "metadata": {
        "id": "inW_CS0BOml_"
      },
      "source": [
        "2) Text Banner"
      ]
    },
    {
      "cell_type": "code",
      "metadata": {
        "colab": {
          "base_uri": "https://localhost:8080/"
        },
        "id": "CEOuPAp0Otx2",
        "outputId": "2701e71f-d550-48fa-9ded-0275c74209d5"
      },
      "source": [
        "#Program to create a banner\n",
        "name = input(\"please enter your name:\")\n",
        "name = name.upper()\n",
        "#option 1:for loop\n",
        "#for i in range(50):\n",
        "  #print(\"*\", end=\"\")\n",
        "\n",
        "#option2: using strings\n",
        "top_bottom = \"*\" * 50\n",
        "\n",
        "#option 1: using concentation\n",
        "middle = \"*\" + \" \"*48 + \"*\"\n",
        "\n",
        "number_letters_name = len(name)\n",
        "spaces = int(48 - number_letters_name)\n",
        "if number_letters_name % 2 == 0:\n",
        "  #even number\n",
        "  name_line = f\"*{' '*(spaces//2)}{name}{' '*(spaces//2)}*\"\n",
        "else:\n",
        "  name_line =f\"*{' '*(spaces//2)}{name}{' '*((spaces//2)+1)}*\"\n",
        "\n",
        "#print the banner\n",
        "print(top_bottom)\n",
        "print(middle)\n",
        "print(name_line)\n",
        "print(middle)\n",
        "print(top_bottom)\n",
        "# using list you can write this more effectively\n",
        "\n",
        "\n",
        "\n",
        "\n",
        "\n",
        "\n",
        "\n"
      ],
      "execution_count": null,
      "outputs": [
        {
          "output_type": "stream",
          "name": "stdout",
          "text": [
            "please enter your name:nisrine\n",
            "**************************************************\n",
            "*                                                *\n",
            "*                    NISRINE                     *\n",
            "*                                                *\n",
            "**************************************************\n"
          ]
        }
      ]
    },
    {
      "cell_type": "markdown",
      "metadata": {
        "id": "-kUEPWZdkpYz"
      },
      "source": [
        "3) Compound interest "
      ]
    },
    {
      "cell_type": "code",
      "metadata": {
        "id": "9DSb7Rq9Qgc7",
        "colab": {
          "base_uri": "https://localhost:8080/"
        },
        "outputId": "460d2809-d4c4-49d0-e361-1331b6da93ab"
      },
      "source": [
        "P = int(input(\"Enter intial amount: \"))\n",
        "r = float(input(\"Enter the internet rate (Ex. 2%): \"))\n",
        "n = int(input(\"Enter the number of periods in a year (Ex. mostly = 12): \"))\n",
        "t = int(input(\"Enter period (years): \"))\n",
        "\n",
        "for year in range(t):\n",
        "  A = P * ( 1 + (r/100)/n) ** (n*year)\n",
        "  print(f\"year {year} amount {A:.2f} US \") #formating the number Q, with only 2\n",
        "                                          # decimal numbers after the dot 50.23"
      ],
      "execution_count": 3,
      "outputs": [
        {
          "output_type": "stream",
          "name": "stdout",
          "text": [
            "Enter intial amount: 50\n",
            "Enter the internet rate (Ex. 2%): 2\n",
            "Enter the number of periods in a year (Ex. mostly = 12): 12\n",
            "Enter period (years): 15\n",
            "year 0 amount 50.00 US \n",
            "year 1 amount 51.01 US \n",
            "year 2 amount 52.04 US \n",
            "year 3 amount 53.09 US \n",
            "year 4 amount 54.16 US \n",
            "year 5 amount 55.25 US \n",
            "year 6 amount 56.37 US \n",
            "year 7 amount 57.51 US \n",
            "year 8 amount 58.67 US \n",
            "year 9 amount 59.85 US \n",
            "year 10 amount 61.06 US \n",
            "year 11 amount 62.29 US \n",
            "year 12 amount 63.55 US \n",
            "year 13 amount 64.83 US \n",
            "year 14 amount 66.14 US \n"
          ]
        }
      ]
    }
  ]
}