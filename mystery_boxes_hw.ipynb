{
  "nbformat": 4,
  "nbformat_minor": 0,
  "metadata": {
    "colab": {
      "name": "myster_boxes_hw.md",
      "provenance": [],
      "authorship_tag": "ABX9TyPtb8lmQhGql6y/Wm3ZFNlS",
      "include_colab_link": true
    },
    "kernelspec": {
      "name": "python3",
      "display_name": "Python 3"
    },
    "language_info": {
      "name": "python"
    }
  },
  "cells": [
    {
      "cell_type": "markdown",
      "metadata": {
        "id": "view-in-github",
        "colab_type": "text"
      },
      "source": [
        "<a href=\"https://colab.research.google.com/github/NisrineTiouti/unit-1/blob/main/mystery_boxes_hw.ipynb\" target=\"_parent\"><img src=\"https://colab.research.google.com/assets/colab-badge.svg\" alt=\"Open In Colab\"/></a>"
      ]
    },
    {
      "cell_type": "code",
      "metadata": {
        "colab": {
          "base_uri": "https://localhost:8080/"
        },
        "id": "ID-a4pnfmqV-",
        "outputId": "e0f31903-87e5-40cb-f819-b5e38972bdc1"
      },
      "source": [
        "def mystery_box1(word, capitalize):\n",
        "  if capitalize == \"True\":\n",
        "    return word[::-1].lower()\n",
        "  else:\n",
        "    return word[::-1]\n",
        "\n",
        "a = mystery_box1(\"Hello\", \"True\")\n",
        "print(a)\n",
        "c = mystery_box1(\"Hello\", \"False\")\n",
        "print(c)"
      ],
      "execution_count": null,
      "outputs": [
        {
          "output_type": "stream",
          "name": "stdout",
          "text": [
            "olleh\n",
            "olleH\n"
          ]
        }
      ]
    },
    {
      "cell_type": "code",
      "metadata": {
        "colab": {
          "base_uri": "https://localhost:8080/"
        },
        "id": "JWWhYwZWpslM",
        "outputId": "2d764edf-6cb5-4426-ff96-4d9a2e3d0be8"
      },
      "source": [
        "def mystery_box2(gmail):\n",
        "  name = gmail[0:8]\n",
        "  adress = gmail[9:]\n",
        "  print(name.title().strip(\".\"))\n",
        "  print(adress)\n",
        "\n",
        "mystery_box2(\"john.doe@gmail.com\")\n"
      ],
      "execution_count": null,
      "outputs": [
        {
          "output_type": "stream",
          "name": "stdout",
          "text": [
            "John.Doe\n",
            "gmail.com\n"
          ]
        }
      ]
    },
    {
      "cell_type": "code",
      "metadata": {
        "colab": {
          "base_uri": "https://localhost:8080/"
        },
        "id": "tQ8K_4C2yZ3n",
        "outputId": "00383a69-73a7-405f-a53b-70769312ea20"
      },
      "source": [
        "\n",
        "def mystery_box3(a, b, c):\n",
        "  if a >b:\n",
        "    greater = a\n",
        "  elif c>b:\n",
        "    greater = c\n",
        "  else: \n",
        "    greater = b\n",
        "  while(True):\n",
        "    if ((greater%a ==0) and (greater%b ==0)and (greater%c ==0)):\n",
        "      lcm = greater \n",
        "      break\n",
        "    greater += 1\n",
        "  return lcm\n",
        "  \n",
        "print(mystery_box3(a=8, b = 6, c=2))\n",
        "print(mystery_box3(a = 18, b= 4, c =7))\n",
        "print(mystery_box3(a = 5, b=10, c =7))\n",
        "print(mystery_box3(a = 5, b=6, c=3))\n"
      ],
      "execution_count": null,
      "outputs": [
        {
          "output_type": "stream",
          "name": "stdout",
          "text": [
            "24\n",
            "252\n",
            "70\n",
            "30\n"
          ]
        }
      ]
    },
    {
      "cell_type": "code",
      "metadata": {
        "id": "g7WXGhptbmOB",
        "colab": {
          "base_uri": "https://localhost:8080/"
        },
        "outputId": "3ad922a0-e514-43d0-9c66-4c2dc3d35b1f"
      },
      "source": [
        "def mystery_box4(a,b,c,d,e,f,g):\n",
        "  list = [a,b,c,d,e,f,g]\n",
        "  list.remove(d)\n",
        "  list.remove(g)\n",
        "  print(list)\n",
        "  average = (a + b + c + e + f)/5\n",
        "  print(average)\n",
        "\n",
        "mystery_box4(5,6,3,8,1,7,9)\n"
      ],
      "execution_count": 1,
      "outputs": [
        {
          "output_type": "stream",
          "name": "stdout",
          "text": [
            "[5, 6, 3, 1, 7]\n",
            "4.4\n"
          ]
        }
      ]
    }
  ]
}