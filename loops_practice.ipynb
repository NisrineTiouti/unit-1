{
  "nbformat": 4,
  "nbformat_minor": 0,
  "metadata": {
    "colab": {
      "name": "loops practice",
      "provenance": [],
      "collapsed_sections": [],
      "authorship_tag": "ABX9TyPJ8m1yiV+hQKZFTTP3VtrP",
      "include_colab_link": true
    },
    "kernelspec": {
      "name": "python3",
      "display_name": "Python 3"
    },
    "language_info": {
      "name": "python"
    }
  },
  "cells": [
    {
      "cell_type": "markdown",
      "metadata": {
        "id": "view-in-github",
        "colab_type": "text"
      },
      "source": [
        "<a href=\"https://colab.research.google.com/github/NisrineTiouti/unit-1/blob/main/loops_practice.ipynb\" target=\"_parent\"><img src=\"https://colab.research.google.com/assets/colab-badge.svg\" alt=\"Open In Colab\"/></a>"
      ]
    },
    {
      "cell_type": "markdown",
      "metadata": {
        "id": "ljTnmsuM7-Ns"
      },
      "source": [
        "# For and While loop practice 2"
      ]
    },
    {
      "cell_type": "markdown",
      "metadata": {
        "id": "vZxl5Pw78EpN"
      },
      "source": [
        "1) list of squares"
      ]
    },
    {
      "cell_type": "code",
      "metadata": {
        "colab": {
          "base_uri": "https://localhost:8080/"
        },
        "id": "NLQ6i3tP75Wn",
        "outputId": "773d38a5-ec85-4e57-c6ed-67ecb6e76b67"
      },
      "source": [
        "# while loop version: given an integer n weant to print all squares if less or equal to n in ascendant order  \n",
        "# get input from user \n",
        "n = int(input('Please enter integer: '))\n",
        "i = 1\n",
        "while i**2 <= n:\n",
        "  print(i**2)\n",
        "  i += 1"
      ],
      "execution_count": null,
      "outputs": [
        {
          "output_type": "stream",
          "name": "stdout",
          "text": [
            "Please enter integer: 10\n",
            "1\n",
            "4\n",
            "9\n"
          ]
        }
      ]
    },
    {
      "cell_type": "code",
      "metadata": {
        "colab": {
          "base_uri": "https://localhost:8080/"
        },
        "id": "VuIJi4yR8kw3",
        "outputId": "b8494503-5eed-4274-9de1-298a8e51b704"
      },
      "source": [
        "# for loop version:\n",
        "n = int(input(' Please enter integer:'))\n",
        "for i in range (1, n):\n",
        "  if i ** 2 <= n:\n",
        "   print(i**2)"
      ],
      "execution_count": null,
      "outputs": [
        {
          "output_type": "stream",
          "name": "stdout",
          "text": [
            " Please enter integer:10\n",
            "1\n",
            "4\n",
            "9\n"
          ]
        }
      ]
    },
    {
      "cell_type": "markdown",
      "metadata": {
        "id": "olwoDTAZ9LZg"
      },
      "source": [
        "2) Least divisor "
      ]
    },
    {
      "cell_type": "code",
      "metadata": {
        "colab": {
          "base_uri": "https://localhost:8080/"
        },
        "id": "PCEwE9CQ9RGJ",
        "outputId": "e8bd221f-1909-44ce-fe06-1e8d4fbbc14d"
      },
      "source": [
        "# while version: Given an integer not less than 2. Print its smallest integer divisor greater than 1.\n",
        "n = int(input('Please enter integer: '))\n",
        "i = 2\n",
        "while n % i != 0:\n",
        "    i += 1\n",
        "    \n",
        "print(i)\n",
        "    \n"
      ],
      "execution_count": null,
      "outputs": [
        {
          "output_type": "stream",
          "name": "stdout",
          "text": [
            "Please enter integer: 12\n",
            "2\n"
          ]
        }
      ]
    },
    {
      "cell_type": "code",
      "metadata": {
        "colab": {
          "base_uri": "https://localhost:8080/"
        },
        "id": "ON2WJmHGAY20",
        "outputId": "4e19ba0c-668f-41e3-8f06-5cac00f72f6d"
      },
      "source": [
        "#for loop version\n",
        "n = int(input('Please enter integer:'))\n",
        "i = 2\n",
        "for i in range (2,3):\n",
        "  if n % i != 0:\n",
        "    i += 1\n",
        "\n",
        "  print(i)"
      ],
      "execution_count": null,
      "outputs": [
        {
          "output_type": "stream",
          "name": "stdout",
          "text": [
            "Please enter integer:12\n",
            "2\n"
          ]
        }
      ]
    },
    {
      "cell_type": "markdown",
      "metadata": {
        "id": "8a9Fi3Z8DHeG"
      },
      "source": [
        "3) The power of two "
      ]
    },
    {
      "cell_type": "code",
      "metadata": {
        "colab": {
          "base_uri": "https://localhost:8080/"
        },
        "id": "RHkDLin0DaxM",
        "outputId": "b911e9ea-1c39-43ce-f064-5a15a8a76dbc"
      },
      "source": [
        "# while loop version: For a given integer N, find the greatest integer x \n",
        "#where 2^x is less than or equal to N. \n",
        "#Print the exponent value and the result of the expression 2^x.\n",
        "n = int(input('Please enter an integer:'))\n",
        "i, j = 0,1\n",
        "while j * 2 <= n:\n",
        "    i = i +1\n",
        "    j = j *2\n",
        "    \n",
        "print (i, j)"
      ],
      "execution_count": null,
      "outputs": [
        {
          "output_type": "stream",
          "name": "stdout",
          "text": [
            "Please enter an integer:35\n",
            "5 32\n"
          ]
        }
      ]
    },
    {
      "cell_type": "code",
      "metadata": {
        "colab": {
          "base_uri": "https://localhost:8080/"
        },
        "id": "N5qVX6WmHrLQ",
        "outputId": "a31a7956-0fc9-4ad3-9c34-18051bbc62f7"
      },
      "source": [
        "# for loop version: \n",
        "n = int(input('Please enter an integer: '))\n",
        "exp, res = 0, 2\n",
        "for i in range (1, 1000):\n",
        "  if res >n:\n",
        "    break\n",
        "  else:\n",
        "    res *= 2\n",
        "    exp += 1\n",
        "\n",
        "print(exp)\n",
        "print(res/2)"
      ],
      "execution_count": null,
      "outputs": [
        {
          "output_type": "stream",
          "name": "stdout",
          "text": [
            "Please enter an integer: 35\n",
            "5\n",
            "32.0\n"
          ]
        }
      ]
    },
    {
      "cell_type": "markdown",
      "metadata": {
        "id": "OtZcaz1XJjr0"
      },
      "source": [
        "4)Morning jog "
      ]
    },
    {
      "cell_type": "code",
      "metadata": {
        "colab": {
          "base_uri": "https://localhost:8080/"
        },
        "id": "fbrXifm5WFgE",
        "outputId": "897c85c6-6b97-4bde-a50b-529350db7145"
      },
      "source": [
        "base = int(input(\"Enter the initial distance:\" ))\n",
        "target = int(input(\"Enter the target distance: \"))\n",
        "\n",
        "days = 1\n",
        "while base < target:\n",
        "    #increse the base by 10%\n",
        "    base *= 1.10 * base\n",
        "    #increase the days\n",
        "    days += 1\n",
        "\n",
        "print(\"The number of days taken to reach the target was \", days)"
      ],
      "execution_count": null,
      "outputs": [
        {
          "output_type": "stream",
          "name": "stdout",
          "text": [
            "Enter the initial distance:50\n",
            "Enter the target distance: 20\n",
            "The number of days taken to reach the target was  1\n"
          ]
        }
      ]
    },
    {
      "cell_type": "code",
      "metadata": {
        "colab": {
          "base_uri": "https://localhost:8080/"
        },
        "id": "UectcLhqWakF",
        "outputId": "29c979a7-43c7-497a-d2b7-d7e636a692c4"
      },
      "source": [
        "# for loop version \n",
        "base = int(input(\"Enter the initial distance:\" ))\n",
        "target = int(input(\"Enter the target distance: \"))\n",
        "\n",
        "#let's assume that it will take maximum 1000 days to reach the target distance\n",
        "\n",
        "for days in range(1, 1000):\n",
        "    #increse the base by 10%\n",
        "    base *= 1.10 * base\n",
        "    if base >= target:\n",
        "        # we force stop the loop\n",
        "        break\n",
        "\n",
        "print(\"The number of days taken to reach the target was \", days) "
      ],
      "execution_count": null,
      "outputs": [
        {
          "output_type": "stream",
          "name": "stdout",
          "text": [
            "Enter the initial distance:50\n",
            "Enter the target distance: 30\n",
            "The number of days taken to reach the target was  1\n"
          ]
        }
      ]
    },
    {
      "cell_type": "markdown",
      "metadata": {
        "id": "kAnkHgO7Wjmx"
      },
      "source": [
        "5)Length sequence "
      ]
    },
    {
      "cell_type": "code",
      "metadata": {
        "colab": {
          "base_uri": "https://localhost:8080/"
        },
        "id": "TrYSeHdua4ge",
        "outputId": "2e9d1d41-0e5b-49d1-9361-73608addd05c"
      },
      "source": [
        "# solved using while loop:\n",
        "print(\"Please input  a sequence of numbers\")\n",
        "i = 0 \n",
        "while int(input()) != 0:\n",
        "    i += 1\n",
        "    \n",
        "print(f\"The lenght of that sequence is: {i}\")\n",
        "    \n"
      ],
      "execution_count": null,
      "outputs": [
        {
          "output_type": "stream",
          "name": "stdout",
          "text": [
            "Please input  a sequence of numbers\n",
            "4\n",
            "3\n",
            "2\n",
            "0\n",
            "The lenght of that sequence is: 3\n"
          ]
        }
      ]
    },
    {
      "cell_type": "code",
      "metadata": {
        "colab": {
          "base_uri": "https://localhost:8080/"
        },
        "id": "gtPoTNDu9v41",
        "outputId": "8053e7e0-7c08-4c3e-9f91-ebc9f7d238cb"
      },
      "source": [
        "# solved using for loop:\n",
        "print(\"please enter a sequence of numbers that ends with 0: \")\n",
        "i = 0 \n",
        "for i in range (1000):\n",
        "  num = int(input())\n",
        "  if num == 0:\n",
        "    break\n",
        "  elif num !=0:\n",
        "    i += 1\n",
        "\n",
        "print (f\"The length of the sequence is: {i}\")"
      ],
      "execution_count": null,
      "outputs": [
        {
          "output_type": "stream",
          "name": "stdout",
          "text": [
            "please enter a sequence of numbers that ends with 0: \n",
            "5\n",
            "8\n",
            "3\n",
            "2\n",
            "6\n",
            "7\n",
            "8\n",
            "0\n",
            "The length of the sequence is: 7\n"
          ]
        }
      ]
    },
    {
      "cell_type": "markdown",
      "metadata": {
        "id": "tBo_ES96h5Jd"
      },
      "source": [
        "6) sum_sequence"
      ]
    },
    {
      "cell_type": "code",
      "metadata": {
        "colab": {
          "base_uri": "https://localhost:8080/"
        },
        "id": "HchfILJMiVK5",
        "outputId": "cead403b-7db6-4e67-a1bc-7863732cffcb"
      },
      "source": [
        "# while loop:\n",
        "print(\"Please enter a sequence of numbers\")\n",
        "sum = 0\n",
        "element = int(input())\n",
        "while element != 0:\n",
        "  sum += element\n",
        "  element = int(input())\n",
        "\n",
        "print(f\"The sum of the is sequence is: {sum}\")"
      ],
      "execution_count": null,
      "outputs": [
        {
          "output_type": "stream",
          "name": "stdout",
          "text": [
            "Please enter a sequence of numbers\n",
            "1\n",
            "3\n",
            "5\n",
            "6\n",
            "0\n",
            "The sum of the is sequence is: 15\n"
          ]
        }
      ]
    },
    {
      "cell_type": "code",
      "metadata": {
        "colab": {
          "base_uri": "https://localhost:8080/"
        },
        "id": "wQ7sibFnyLvb",
        "outputId": "a62322b7-7f16-4b2a-e822-81b53b500131"
      },
      "source": [
        "# solved using for loop:\n",
        "print(\"PLease enter a sequence of numbers:\")\n",
        "sum = 0\n",
        "for i in range(1000):\n",
        "  element = int(input())\n",
        "  if element ==0:\n",
        "    break \n",
        "  else:\n",
        "    sum += element \n",
        "\n",
        "print(f\"The sum of the sequence is : {sum}\")\n"
      ],
      "execution_count": null,
      "outputs": [
        {
          "output_type": "stream",
          "name": "stdout",
          "text": [
            "PLease enetr a sequence of numbers:\n",
            "3\n",
            "8\n",
            "9\n",
            "6\n",
            "0\n",
            "The sum of the sequence is : 26\n"
          ]
        }
      ]
    },
    {
      "cell_type": "markdown",
      "metadata": {
        "id": "IennnRkC7eqJ"
      },
      "source": [
        "7) The average of a sequence"
      ]
    },
    {
      "cell_type": "code",
      "metadata": {
        "colab": {
          "base_uri": "https://localhost:8080/"
        },
        "id": "RK_rFJ7k74mM",
        "outputId": "12c6d1cc-f448-407a-c579-66d3d38e42d8"
      },
      "source": [
        "# solved using while loop:\n",
        "s = 0\n",
        "n = 0 \n",
        "print(\"PLease enter a sequence of numbers that ends with 0: \")\n",
        "a = int(input())\n",
        "while a != 0:\n",
        "  s += a\n",
        "  n += 1\n",
        "  a = int(input())\n",
        "\n",
        "print(f\"The average of the sequence is: {s/n} \")"
      ],
      "execution_count": null,
      "outputs": [
        {
          "output_type": "stream",
          "name": "stdout",
          "text": [
            "PLease enter a sequence of numbers that ends with 0: \n",
            "6\n",
            "7\n",
            "9\n",
            "2\n",
            "0\n",
            "The average of the sequence is: 6.0 \n"
          ]
        }
      ]
    },
    {
      "cell_type": "code",
      "metadata": {
        "colab": {
          "base_uri": "https://localhost:8080/"
        },
        "id": "K9nWkhJe_eNh",
        "outputId": "ca495251-cd89-45d5-cbc4-8d16df1b35c1"
      },
      "source": [
        "# solved using for loop:\n",
        "s = 0\n",
        "n = 0\n",
        "print(\"Please enter a sequence of numbers that ends with 0:\")\n",
        "\n",
        "for i in range (1000):\n",
        "  a = int(input())\n",
        "  if a ==0:\n",
        "    break\n",
        "  elif a !=0:\n",
        "    s += a\n",
        "    n += 1\n",
        "\n",
        "print(f\"The average of this sequence is: {s/n}\")\n",
        "  "
      ],
      "execution_count": null,
      "outputs": [
        {
          "output_type": "stream",
          "name": "stdout",
          "text": [
            "Please enter a sequence of numbers that ends with 0:\n",
            "6\n",
            "7\n",
            "9\n",
            "2\n",
            "0\n",
            "The average of this sequence is: 6.0\n"
          ]
        }
      ]
    },
    {
      "cell_type": "markdown",
      "metadata": {
        "id": "KQSfvbtSAcWi"
      },
      "source": [
        "8) The max of the sequence "
      ]
    },
    {
      "cell_type": "code",
      "metadata": {
        "colab": {
          "base_uri": "https://localhost:8080/"
        },
        "id": "eAufdXdkAlme",
        "outputId": "faa46c72-6304-457a-8f0e-8d3428cedd71"
      },
      "source": [
        "# solved using while loop: fin the largest integer in the sequence \n",
        "max = 0 \n",
        "print (\"PLease enter a sequence of numbers that ends with 0: \")\n",
        "a = int(input())\n",
        "while a !=0:\n",
        "  if a > max :\n",
        "    max = a\n",
        "  \n",
        "  a = int(input())\n",
        "\n",
        "print (f\"The largest integer in the sequence is: {max}\")"
      ],
      "execution_count": null,
      "outputs": [
        {
          "output_type": "stream",
          "name": "stdout",
          "text": [
            "PLease enter a sequence of numbers that ends with 0: \n",
            "5\n",
            "3\n",
            "90\n",
            "6\n",
            "4\n",
            "0\n",
            "The largest integer in the sequence is: 90\n"
          ]
        }
      ]
    },
    {
      "cell_type": "code",
      "metadata": {
        "colab": {
          "base_uri": "https://localhost:8080/"
        },
        "id": "QqVstXkGB20e",
        "outputId": "9cf9bee5-3f83-49fa-bd98-ab01201efb62"
      },
      "source": [
        "# solved using for loop:\n",
        "max = 0\n",
        "print(\"Please enetr a sequence of nunmbers that ends with 0: \")\n",
        "for i in range (1000):\n",
        "  a = int(input())\n",
        "  if a == 0:\n",
        "    break\n",
        "  elif a != 0 and a > max:\n",
        "    max = a\n",
        "\n",
        "print(f\"The largest integer in the sequence is : {max}\")\n"
      ],
      "execution_count": null,
      "outputs": [
        {
          "output_type": "stream",
          "name": "stdout",
          "text": [
            "Please enetr a sequence of nunmbers that ends with 0: \n",
            "3\n",
            "2\n",
            "5\n",
            "70\n",
            "7\n",
            "0\n",
            "The largest integer in the sequence is : 70\n"
          ]
        }
      ]
    },
    {
      "cell_type": "markdown",
      "metadata": {
        "id": "IazGyua8Csyb"
      },
      "source": [
        "9 ) The index of the maximum of a sequence "
      ]
    },
    {
      "cell_type": "code",
      "metadata": {
        "colab": {
          "base_uri": "https://localhost:8080/"
        },
        "id": "Ge-oA2n9C11v",
        "outputId": "97231a3e-7724-4903-d27e-86aedc452ea0"
      },
      "source": [
        "# solved using while loop\n",
        "max = 0\n",
        "i = 1\n",
        "max_i = 0\n",
        "print(\"please enter a sequence of numbers that ends with 0:\")\n",
        "a = int(input())\n",
        "while a!= 0:\n",
        "  if a >max:\n",
        "    max = a\n",
        "    max_i= i - 1\n",
        "  a = int(input())\n",
        "  i += 1\n",
        "\n",
        "print(f\"The index of the maximum integer of this sequence is: {max_i}\")"
      ],
      "execution_count": null,
      "outputs": [
        {
          "output_type": "stream",
          "name": "stdout",
          "text": [
            "please enter a sequence of numbers that ends with 0:\n",
            "9\n",
            "30\n",
            "15\n",
            "500\n",
            "4\n",
            "0\n",
            "The index of the maximum integer of this sequence is: 3\n"
          ]
        }
      ]
    },
    {
      "cell_type": "code",
      "metadata": {
        "colab": {
          "base_uri": "https://localhost:8080/"
        },
        "id": "0rCebLHpFYQE",
        "outputId": "c087996d-0a00-4234-8e12-0152c451319f"
      },
      "source": [
        "#solved using for loop\n",
        "max = 1\n",
        "i = 1\n",
        "max_i = 0\n",
        "print(\"Please enter a sequence of numbers that ends with 0:\")\n",
        "for i in range (1000):\n",
        "  a = int(input())\n",
        "  if a ==0:\n",
        "    break\n",
        "  elif a !=0 and a>max:\n",
        "    max = a\n",
        "    max_i = i\n",
        "  i += 1\n",
        "\n",
        "print(f\"The index of the largest integer of this sequence is: {max_i}\")"
      ],
      "execution_count": null,
      "outputs": [
        {
          "output_type": "stream",
          "name": "stdout",
          "text": [
            "Please enter a sequence of numbers that ends with 0:\n",
            "3\n",
            "50\n",
            "4\n",
            "0\n",
            "The index of the largest integer of this sequence is: 1\n"
          ]
        }
      ]
    },
    {
      "cell_type": "markdown",
      "metadata": {
        "id": "YOmE_DIHG4DR"
      },
      "source": [
        "10) The number of even elements of the sequence"
      ]
    },
    {
      "cell_type": "code",
      "metadata": {
        "colab": {
          "base_uri": "https://localhost:8080/"
        },
        "id": "iSfCT6bVHC6G",
        "outputId": "e1940610-b205-4e76-898f-dfbf22c056d4"
      },
      "source": [
        "# solved using while loop:\n",
        "n = 0 \n",
        "print(\"Pleas eneter a sequence of numbers that end with 0:\")\n",
        "a = int(input())\n",
        "while a !=0:\n",
        "  if a %2 ==0:\n",
        "    n += 1\n",
        "  a = int(input())\n",
        "\n",
        "print(f\"The number of even elements of the sequence is: {n}\")\n"
      ],
      "execution_count": null,
      "outputs": [
        {
          "output_type": "stream",
          "name": "stdout",
          "text": [
            "Pleas eneter a sequence of numbers that end with 0:\n",
            "3\n",
            "5\n",
            "6\n",
            "8\n",
            "9\n",
            "2\n",
            "0\n",
            "The number of even elements of the sequence is: 3\n"
          ]
        }
      ]
    },
    {
      "cell_type": "code",
      "metadata": {
        "colab": {
          "base_uri": "https://localhost:8080/"
        },
        "id": "b0wn4OZyIWL4",
        "outputId": "5775b57f-efc5-4683-af9c-83f2b9269760"
      },
      "source": [
        "#solved using for loop:\n",
        "n = 0\n",
        "print(\"Please enter a sequence of numbers that end with 0: \")\n",
        "for i in range (1000):\n",
        "  a = int(input())\n",
        "  if a == 0:\n",
        "    break\n",
        "  elif a %2 ==0:\n",
        "    n +=1\n",
        "\n",
        "print(f\"The number of even elements of the sequence is: {n}\")"
      ],
      "execution_count": null,
      "outputs": [
        {
          "output_type": "stream",
          "name": "stdout",
          "text": [
            "Please enter a sequence of numbers that end with 0: \n",
            "7\n",
            "9\n",
            "3\n",
            "1\n",
            "0\n",
            "The number of even elements of the sequence is: 0\n"
          ]
        }
      ]
    },
    {
      "cell_type": "markdown",
      "metadata": {
        "id": "AOHpH_HHJCu3"
      },
      "source": [
        "11)The number of elements that are greater than the previous one "
      ]
    },
    {
      "cell_type": "code",
      "metadata": {
        "colab": {
          "base_uri": "https://localhost:8080/"
        },
        "id": "Gauwc4N0JRzj",
        "outputId": "b7d0181b-5a13-423a-d275-0f182a95a627"
      },
      "source": [
        "# solved using while loop:\n",
        "c = 0\n",
        "print(\"Please enter a seuqnce of numbers that ends with 0:\")\n",
        "b = int(input())\n",
        "a = b\n",
        "while b != 0:\n",
        "    if b > a:\n",
        "       c += 1\n",
        "    a = b\n",
        "    b = int(input())\n",
        "print(f\"The number of elements that are greater than the previous one is: {c}\")\n"
      ],
      "execution_count": null,
      "outputs": [
        {
          "output_type": "stream",
          "name": "stdout",
          "text": [
            "Please enter a seuqnce of numbers that ends with 0:\n",
            "4\n",
            "5\n",
            "7\n",
            "8\n",
            "10\n",
            "4\n",
            "0\n",
            "The number of elements that are greater than the previous one is: 4\n"
          ]
        }
      ]
    },
    {
      "cell_type": "code",
      "metadata": {
        "colab": {
          "base_uri": "https://localhost:8080/"
        },
        "id": "JZb90M_LKTcJ",
        "outputId": "5f72ebaf-a491-4654-f553-4d9f477270c3"
      },
      "source": [
        "# solved using for loop:\n",
        "c = 0\n",
        "print(\"Please enetr a sequence of numbers that end with 0:\")\n",
        "for i in range (1000):\n",
        "  b = int(input())\n",
        "  a = b\n",
        "  if b == 0:\n",
        "    break\n",
        "  elif b != 0 and b>0:\n",
        "    c += 1\n",
        "print(f\"The number of elements that are greater than the previous one in this sequence are : {c}\")"
      ],
      "execution_count": null,
      "outputs": [
        {
          "output_type": "stream",
          "name": "stdout",
          "text": [
            "Please enetr a sequence of numbers that end with 0:\n",
            "4\n",
            "5\n",
            "2\n",
            "1\n",
            "90\n",
            "20\n",
            "6\n",
            "0\n",
            "The number of elements that are greater than the previous one in this sequence are : 7\n"
          ]
        }
      ]
    },
    {
      "cell_type": "markdown",
      "metadata": {
        "id": "K1QtOK4aLVto"
      },
      "source": [
        "12) The second maximum "
      ]
    },
    {
      "cell_type": "code",
      "metadata": {
        "colab": {
          "base_uri": "https://localhost:8080/"
        },
        "id": "51R7dKN7Lek_",
        "outputId": "4b17e058-d43e-4dd7-b37c-a0b7b8cea13b"
      },
      "source": [
        "max2 = -1\n",
        "print (\"PLease enter a sequence of numbers that ends with 0: \")\n",
        "a = int(input())\n",
        "max = 1\n",
        "while a !=0:\n",
        "  if a > max :\n",
        "    max2 = max \n",
        "    max = a\n",
        "  elif a > max2:\n",
        "    max2 = a\n",
        "  a = int(input())\n",
        "\n",
        "print (f\"The second largest integer in the sequence is: {max2} \")"
      ],
      "execution_count": null,
      "outputs": [
        {
          "output_type": "stream",
          "name": "stdout",
          "text": [
            "PLease enter a sequence of numbers that ends with 0: \n",
            "4\n",
            "50\n",
            "6\n",
            "200\n",
            "0\n",
            "The second largest integer in the sequence is: 50 \n"
          ]
        }
      ]
    },
    {
      "cell_type": "code",
      "metadata": {
        "colab": {
          "base_uri": "https://localhost:8080/"
        },
        "id": "0cpBHoO8QSxA",
        "outputId": "72a49647-8a7e-4d44-b16e-970155a7d46d"
      },
      "source": [
        "# solved using for loop:\n",
        "max2= -1\n",
        "max = 1\n",
        "print(\"Please enter a sequence of numbers that ends with 0: \")\n",
        "for i in range (1000):\n",
        "  a = int(input())\n",
        "  if a == 0:\n",
        "    break\n",
        "  elif a!=0 and a>max:\n",
        "    max2 = max\n",
        "    max = a\n",
        "  elif a!=0 and a>max2:\n",
        "    max2 = a\n",
        "\n",
        "print(f\"The second largest integer in the sequence is: {max2}\")\n",
        "\n"
      ],
      "execution_count": null,
      "outputs": [
        {
          "output_type": "stream",
          "name": "stdout",
          "text": [
            "Please enter a sequence of numbers that ends with 0: \n",
            "4\n",
            "6\n",
            "30\n",
            "7\n",
            "300\n",
            "0\n",
            "The second largest integer in the sequence is: 30\n"
          ]
        }
      ]
    },
    {
      "cell_type": "markdown",
      "metadata": {
        "id": "7czim0VfSA9S"
      },
      "source": [
        "13) The number of elements equal to maximum:"
      ]
    },
    {
      "cell_type": "code",
      "metadata": {
        "colab": {
          "base_uri": "https://localhost:8080/"
        },
        "id": "Ja3HzACASN5q",
        "outputId": "e58a280d-839f-464c-cf58-995dccaedc39"
      },
      "source": [
        "max = 0\n",
        "element = 1\n",
        "print(\"Please enter a sequence of numbers that ends with 0: \")\n",
        "a = int(input())\n",
        "while a != 0:\n",
        "    if a > max:\n",
        "        max = a\n",
        "        element = 1\n",
        "    elif a == max:\n",
        "       element += 1\n",
        "    a = int(input())\n",
        "\n",
        "print(f\"The number of elements equal to maximum in this sequence is: {element}\")\n"
      ],
      "execution_count": null,
      "outputs": [
        {
          "output_type": "stream",
          "name": "stdout",
          "text": [
            "Please enter a sequence of numbers that ends with 0: \n",
            "6\n",
            "3\n",
            "4\n",
            "9\n",
            "10\n",
            "0\n",
            "The number of elements equal to maximum in this sequence is: 1\n"
          ]
        }
      ]
    },
    {
      "cell_type": "code",
      "metadata": {
        "colab": {
          "base_uri": "https://localhost:8080/"
        },
        "id": "c2SbpAxUdOrB",
        "outputId": "b4bb257e-9ec7-414a-e2d1-753c917a12e2"
      },
      "source": [
        "# solved using for loop:\n",
        "max = 0 \n",
        "element = 1\n",
        "print(\"Please enter a sequence of numbers that ends with 0: \")\n",
        "for i in range (1000):\n",
        "  a = int(input())\n",
        "  if a ==0:\n",
        "    break\n",
        "  elif a!= 0 and a> max:\n",
        "    max = a\n",
        "    element = 1\n",
        "  elif a!= 0 and a == max:\n",
        "    element += 1\n",
        "  \n",
        "\n",
        "print(f\"The number of elements equal to maximum in thi sequence is: {element} \")"
      ],
      "execution_count": null,
      "outputs": [
        {
          "output_type": "stream",
          "name": "stdout",
          "text": [
            "Please enter a sequence of numbers that ends with 0: \n",
            "6\n",
            "3\n",
            "4\n",
            "9\n",
            "10\n",
            "0\n",
            "The number of elements equal to maximum in thi sequence is: 1 \n"
          ]
        }
      ]
    },
    {
      "cell_type": "markdown",
      "metadata": {
        "id": "5eo51_WIflDr"
      },
      "source": [
        "14) Fibonacci numbers"
      ]
    },
    {
      "cell_type": "code",
      "metadata": {
        "colab": {
          "base_uri": "https://localhost:8080/"
        },
        "id": "Rocl9UO8gJIF",
        "outputId": "1956664a-e2d2-4352-af32-379145efa71c"
      },
      "source": [
        "# solved using while loop:\n",
        "print(\"Please enter an integer: \")\n",
        "n = int(input())\n",
        "fi1 = 0\n",
        "fi2 = 1\n",
        "if n < 1:\n",
        "    print(0)\n",
        "elif n == 1:\n",
        "    print(1)\n",
        "else:\n",
        "    i = 2\n",
        "    while i <= n:\n",
        "        fi2, fi1 = fi1 + fi2, fi2\n",
        "        i += 1\n",
        "    print(fi2)\n",
        "    "
      ],
      "execution_count": null,
      "outputs": [
        {
          "output_type": "stream",
          "name": "stdout",
          "text": [
            "Please enter an integer: \n",
            "9\n",
            "34\n"
          ]
        }
      ]
    },
    {
      "cell_type": "code",
      "metadata": {
        "colab": {
          "base_uri": "https://localhost:8080/"
        },
        "id": "Subsv70Ygi5p",
        "outputId": "acd00aa6-6741-47a7-f23e-ac112f9c21b1"
      },
      "source": [
        "# solved using for loop:\n",
        "print (\"Please enter an integer:\")\n",
        "n = int(input())\n",
        "if n == 0:\n",
        "    print(0)\n",
        "else:\n",
        "    a, b = 0, 1\n",
        "    for i in range(2, n + 1):\n",
        "        a, b = b, a + b\n",
        "    print(b)"
      ],
      "execution_count": null,
      "outputs": [
        {
          "output_type": "stream",
          "name": "stdout",
          "text": [
            "Please enter an integer:\n",
            "20\n",
            "6765\n"
          ]
        }
      ]
    },
    {
      "cell_type": "markdown",
      "metadata": {
        "id": "YySRd5sLhII1"
      },
      "source": [
        "15) The index of Fibonacci sequence"
      ]
    },
    {
      "cell_type": "code",
      "metadata": {
        "colab": {
          "base_uri": "https://localhost:8080/"
        },
        "id": "6fpSmls1hwSv",
        "outputId": "6fe76434-b2cc-42a1-80b3-819c5f362377"
      },
      "source": [
        "# solved using while loop\n",
        "A = int(input())\n",
        "fi1 = 0\n",
        "fi2 = 1\n",
        "if A == 1:\n",
        "    print(1)\n",
        "else:\n",
        "    i = 1\n",
        "    while A > fi2:\n",
        "        fi2, fi1 = fi1 + fi2, fi2\n",
        "        i += 1\n",
        "    if A == fi2:\n",
        "        print(i)\n",
        "    else:\n",
        "        print(-1)\n"
      ],
      "execution_count": null,
      "outputs": [
        {
          "output_type": "stream",
          "name": "stdout",
          "text": [
            "8\n",
            "6\n"
          ]
        }
      ]
    },
    {
      "cell_type": "markdown",
      "metadata": {
        "id": "XK2BjvDmj9hg"
      },
      "source": [
        "16) The maximum number of consecutive equal elements"
      ]
    },
    {
      "cell_type": "code",
      "metadata": {
        "id": "wYhsoYrTkNpb",
        "colab": {
          "base_uri": "https://localhost:8080/"
        },
        "outputId": "6926b030-b860-4146-b7d9-13ed44d4455d"
      },
      "source": [
        "chunk = 1\n",
        "max_chunk = 1\n",
        "print(\"Please enter a sequnece of numbers that ends with 0: \")\n",
        "a = int(input())\n",
        "b = a\n",
        "while b != 0:\n",
        "    b, a = int(input()), b\n",
        "    if b == a:\n",
        "        chunk += 1\n",
        "    else:\n",
        "        if chunk > max_chunk:\n",
        "            max_chunk = chunk\n",
        "        chunk = 1\n",
        "print(f\"The maximum number of consecutive equal elements is: {max_chunk}\")"
      ],
      "execution_count": 1,
      "outputs": [
        {
          "output_type": "stream",
          "name": "stdout",
          "text": [
            "Please enter a sequnece of numbers that ends with 0: \n",
            "3\n",
            "8\n",
            "9\n",
            "2\n",
            "0\n",
            "The maximum number of consecutive equal elements is: 1\n"
          ]
        }
      ]
    }
  ]
}