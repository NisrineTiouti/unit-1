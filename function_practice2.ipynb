{
  "nbformat": 4,
  "nbformat_minor": 0,
  "metadata": {
    "colab": {
      "name": "function_practice2.ipynb",
      "provenance": [],
      "authorship_tag": "ABX9TyNSh2MInWXL7Et7fWU9LlNp",
      "include_colab_link": true
    },
    "kernelspec": {
      "name": "python3",
      "display_name": "Python 3"
    },
    "language_info": {
      "name": "python"
    }
  },
  "cells": [
    {
      "cell_type": "markdown",
      "metadata": {
        "id": "view-in-github",
        "colab_type": "text"
      },
      "source": [
        "<a href=\"https://colab.research.google.com/github/NisrineTiouti/unit-1/blob/main/function_practice2.ipynb\" target=\"_parent\"><img src=\"https://colab.research.google.com/assets/colab-badge.svg\" alt=\"Open In Colab\"/></a>"
      ]
    },
    {
      "cell_type": "code",
      "metadata": {
        "colab": {
          "base_uri": "https://localhost:8080/"
        },
        "id": "IUkP4wtfTnVH",
        "outputId": "19d5bd6d-6568-41cb-c8ca-3bf19db154fa"
      },
      "source": [
        "def blue_box(a,b):\n",
        "  if (a+b) % 2 ==0:\n",
        "    sum = a+b\n",
        "  else:\n",
        "    sum = 0\n",
        "  return sum\n",
        "  \n",
        "out = blue_box(blue_box(blue_box(10,1),blue_box(12,5)), 3)\n",
        "print(out)\n"
      ],
      "execution_count": 1,
      "outputs": [
        {
          "output_type": "stream",
          "name": "stdout",
          "text": [
            "0\n"
          ]
        }
      ]
    },
    {
      "cell_type": "code",
      "metadata": {
        "colab": {
          "base_uri": "https://localhost:8080/"
        },
        "id": "WCYbCKmCX45q",
        "outputId": "84be93d8-b83d-4c5d-b0b2-8ee1e08594c6"
      },
      "source": [
        "def black_box(n1):\n",
        "  if n1>26:\n",
        "    answer = \"?\"\n",
        "  else: \n",
        "    list = \"?abcdefghijklmnopzrstuvwxyz\"\n",
        "    answer = list[n1]\n",
        "  return answer \n",
        "\n",
        "out = black_box(3)\n",
        "print(out)\n"
      ],
      "execution_count": 1,
      "outputs": [
        {
          "output_type": "stream",
          "name": "stdout",
          "text": [
            "c\n"
          ]
        }
      ]
    },
    {
      "cell_type": "code",
      "metadata": {
        "colab": {
          "base_uri": "https://localhost:8080/"
        },
        "id": "_jd0mPPqaE7F",
        "outputId": "95d76181-9ced-45b7-c461-a6682e7af008"
      },
      "source": [
        "def red_box(let1, let2):\n",
        "  output = let1 if let1>=let2 else let2\n",
        "  return output\n",
        "\n",
        "print(red_box(let1= \"A\",let2 = \"B\"))\n"
      ],
      "execution_count": 1,
      "outputs": [
        {
          "output_type": "stream",
          "name": "stdout",
          "text": [
            "B\n"
          ]
        }
      ]
    },
    {
      "cell_type": "code",
      "metadata": {
        "colab": {
          "base_uri": "https://localhost:8080/"
        },
        "id": "0cxq_JFEdwnb",
        "outputId": "a0c1e03f-0fe1-41f0-b68c-6f0035e18831"
      },
      "source": [
        "def red_box(let1, let2):\n",
        "  output = let1 if let1>=let2 else let2\n",
        "  return output\n",
        "\n",
        "def black_box(x):\n",
        "  if x<26 and x != 0:\n",
        "    answer = chr(96+x)\n",
        "  else: \n",
        "    answer = \"?\"\n",
        "  return answer\n",
        "\n",
        "def blue_box(a,b):\n",
        "  if (a+b) % 2 ==0:\n",
        "    sum = a+b\n",
        "  else:\n",
        "    sum = 0\n",
        "  return sum\n",
        "\n",
        "final = red_box(red_box(black_box(blue_box(5,12)), black_box(blue_box(19,13))), black_box(blue_box(1028,2046)))\n",
        "print(final)\n",
        "\n"
      ],
      "execution_count": 1,
      "outputs": [
        {
          "output_type": "stream",
          "name": "stdout",
          "text": [
            "?\n"
          ]
        }
      ]
    }
  ]
}